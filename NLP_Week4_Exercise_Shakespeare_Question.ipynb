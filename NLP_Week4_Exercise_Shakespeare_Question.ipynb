{
  "nbformat": 4,
  "nbformat_minor": 0,
  "metadata": {
    "colab": {
      "name": "NLP-Week4-Exercise-Shakespeare-Question.ipynb",
      "provenance": []
    },
    "kernelspec": {
      "name": "python3",
      "display_name": "Python 3"
    },
    "accelerator": "GPU"
  },
  "cells": [
    {
      "cell_type": "code",
      "metadata": {
        "id": "BOwsuGQQY9OL",
        "colab_type": "code",
        "colab": {
          "base_uri": "https://localhost:8080/",
          "height": 50
        },
        "outputId": "e5ea0b2b-7c8f-46e9-c763-114f3f525e83"
      },
      "source": [
        "%tensorflow_version 2.x\n",
        "import tensorflow as tf\n",
        "print(\"Tensorflow version:\", tf.__version__)\n",
        "\n",
        "from tensorflow.keras.preprocessing.sequence import pad_sequences\n",
        "from tensorflow.keras.layers import Embedding, LSTM, Dense, Dropout, Bidirectional\n",
        "from tensorflow.keras.preprocessing.text import Tokenizer\n",
        "from tensorflow.keras.models import Sequential\n",
        "from tensorflow.keras.optimizers import Adam\n",
        "### YOUR CODE HERE\n",
        "# Figure out how to import regularizers\n",
        "import tensorflow.keras.regularizers as regs\n",
        "###\n",
        "import tensorflow.keras.utils as ku \n",
        "import numpy as np "
      ],
      "execution_count": 5,
      "outputs": [
        {
          "output_type": "stream",
          "text": [
            "TensorFlow is already loaded. Please restart the runtime to change versions.\n",
            "Tensorflow version: 1.15.0\n"
          ],
          "name": "stdout"
        }
      ]
    },
    {
      "cell_type": "code",
      "metadata": {
        "colab_type": "code",
        "id": "PRnDnCW-Z7qv",
        "colab": {
          "base_uri": "https://localhost:8080/",
          "height": 202
        },
        "outputId": "f9fdeafa-e710-437a-af3b-cc9a3f0156df"
      },
      "source": [
        "tokenizer = Tokenizer()\n",
        "!wget --no-check-certificate \\\n",
        "    https://storage.googleapis.com/laurencemoroney-blog.appspot.com/sonnets.txt \\\n",
        "    -O /tmp/sonnets.txt\n",
        "data = open('/tmp/sonnets.txt').read()\n",
        "\n",
        "corpus = data.lower().split(\"\\n\")\n",
        "\n",
        "\n",
        "tokenizer.fit_on_texts(corpus)\n",
        "total_words = len(tokenizer.word_index) + 1\n",
        "\n",
        "# create input sequences using list of tokens\n",
        "input_sequences = []\n",
        "for line in corpus:\n",
        "\ttoken_list = tokenizer.texts_to_sequences([line])[0]\n",
        "\tfor i in range(1, len(token_list)):\n",
        "\t\tn_gram_sequence = token_list[:i+1]\n",
        "\t\tinput_sequences.append(n_gram_sequence)\n",
        "\n",
        "\n",
        "# pad sequences \n",
        "max_sequence_len = max([len(x) for x in input_sequences])\n",
        "input_sequences = np.array(pad_sequences(input_sequences, maxlen=max_sequence_len, padding='pre'))\n",
        "\n",
        "# create predictors and label\n",
        "predictors, label = input_sequences[:,:-1],input_sequences[:,-1]\n",
        "\n",
        "label = ku.to_categorical(label, num_classes=total_words)"
      ],
      "execution_count": 6,
      "outputs": [
        {
          "output_type": "stream",
          "text": [
            "--2019-11-20 04:47:23--  https://storage.googleapis.com/laurencemoroney-blog.appspot.com/sonnets.txt\n",
            "Resolving storage.googleapis.com (storage.googleapis.com)... 172.217.194.128, 2404:6800:4003:c04::80\n",
            "Connecting to storage.googleapis.com (storage.googleapis.com)|172.217.194.128|:443... connected.\n",
            "HTTP request sent, awaiting response... 200 OK\n",
            "Length: 93578 (91K) [text/plain]\n",
            "Saving to: ‘/tmp/sonnets.txt’\n",
            "\n",
            "\r/tmp/sonnets.txt      0%[                    ]       0  --.-KB/s               \r/tmp/sonnets.txt    100%[===================>]  91.38K  --.-KB/s    in 0.001s  \n",
            "\n",
            "2019-11-20 04:47:24 (146 MB/s) - ‘/tmp/sonnets.txt’ saved [93578/93578]\n",
            "\n"
          ],
          "name": "stdout"
        }
      ]
    },
    {
      "cell_type": "code",
      "metadata": {
        "id": "w9vH8Y59ajYL",
        "colab_type": "code",
        "colab": {
          "base_uri": "https://localhost:8080/",
          "height": 642
        },
        "outputId": "f3c9abbf-d4a9-4216-e3cd-caae5fab50fd"
      },
      "source": [
        "model = Sequential()\n",
        "model.add(Embedding(total_words, 100, input_length=max_sequence_len-1))\n",
        "model.add(Bidirectional(LSTM(150, return_sequences = True)))\n",
        "model.add(Dropout(0.2))\n",
        "model.add(LSTM(100))\n",
        "model.add(Dense(total_words/2, activation='relu', kernel_regularizer=regs.l2(0.01)))\n",
        "model.add(Dense(total_words, activation='softmax'))\n",
        "model.compile(loss='categorical_crossentropy', optimizer='adam', metrics=['accuracy'])\n",
        "print(model.summary())\n"
      ],
      "execution_count": 7,
      "outputs": [
        {
          "output_type": "stream",
          "text": [
            "WARNING:tensorflow:From /usr/local/lib/python3.6/dist-packages/tensorflow_core/python/keras/initializers.py:119: calling RandomUniform.__init__ (from tensorflow.python.ops.init_ops) with dtype is deprecated and will be removed in a future version.\n",
            "Instructions for updating:\n",
            "Call initializer instance with the dtype argument instead of passing it to the constructor\n",
            "WARNING:tensorflow:From /usr/local/lib/python3.6/dist-packages/tensorflow_core/python/ops/resource_variable_ops.py:1630: calling BaseResourceVariable.__init__ (from tensorflow.python.ops.resource_variable_ops) with constraint is deprecated and will be removed in a future version.\n",
            "Instructions for updating:\n",
            "If using Keras pass *_constraint arguments to layers.\n",
            "WARNING:tensorflow:From /usr/local/lib/python3.6/dist-packages/tensorflow_core/python/ops/init_ops.py:97: calling GlorotUniform.__init__ (from tensorflow.python.ops.init_ops) with dtype is deprecated and will be removed in a future version.\n",
            "Instructions for updating:\n",
            "Call initializer instance with the dtype argument instead of passing it to the constructor\n",
            "WARNING:tensorflow:From /usr/local/lib/python3.6/dist-packages/tensorflow_core/python/ops/init_ops.py:97: calling Orthogonal.__init__ (from tensorflow.python.ops.init_ops) with dtype is deprecated and will be removed in a future version.\n",
            "Instructions for updating:\n",
            "Call initializer instance with the dtype argument instead of passing it to the constructor\n",
            "WARNING:tensorflow:From /usr/local/lib/python3.6/dist-packages/tensorflow_core/python/ops/init_ops.py:97: calling Zeros.__init__ (from tensorflow.python.ops.init_ops) with dtype is deprecated and will be removed in a future version.\n",
            "Instructions for updating:\n",
            "Call initializer instance with the dtype argument instead of passing it to the constructor\n",
            "Model: \"sequential\"\n",
            "_________________________________________________________________\n",
            "Layer (type)                 Output Shape              Param #   \n",
            "=================================================================\n",
            "embedding (Embedding)        (None, 10, 100)           321100    \n",
            "_________________________________________________________________\n",
            "bidirectional (Bidirectional (None, 10, 300)           301200    \n",
            "_________________________________________________________________\n",
            "dropout (Dropout)            (None, 10, 300)           0         \n",
            "_________________________________________________________________\n",
            "lstm_1 (LSTM)                (None, 100)               160400    \n",
            "_________________________________________________________________\n",
            "dense (Dense)                (None, 1605)              162105    \n",
            "_________________________________________________________________\n",
            "dense_1 (Dense)              (None, 3211)              5156866   \n",
            "=================================================================\n",
            "Total params: 6,101,671\n",
            "Trainable params: 6,101,671\n",
            "Non-trainable params: 0\n",
            "_________________________________________________________________\n",
            "None\n"
          ],
          "name": "stdout"
        }
      ]
    },
    {
      "cell_type": "code",
      "metadata": {
        "id": "AIg2f1HBxqof",
        "colab_type": "code",
        "colab": {
          "base_uri": "https://localhost:8080/",
          "height": 1000
        },
        "outputId": "064883d2-37de-45af-ea11-03c24c1e562d"
      },
      "source": [
        " history = model.fit(predictors, label, epochs=100, verbose=1)"
      ],
      "execution_count": 8,
      "outputs": [
        {
          "output_type": "stream",
          "text": [
            "WARNING:tensorflow:From /usr/local/lib/python3.6/dist-packages/tensorflow_core/python/ops/math_grad.py:1424: where (from tensorflow.python.ops.array_ops) is deprecated and will be removed in a future version.\n",
            "Instructions for updating:\n",
            "Use tf.where in 2.0, which has the same broadcast rule as np.where\n",
            "Train on 15462 samples\n",
            "Epoch 1/100\n",
            "15462/15462 [==============================] - 26s 2ms/sample - loss: 6.9096 - acc: 0.0208\n",
            "Epoch 2/100\n",
            "15462/15462 [==============================] - 23s 2ms/sample - loss: 6.5004 - acc: 0.0233\n",
            "Epoch 3/100\n",
            "15462/15462 [==============================] - 23s 2ms/sample - loss: 6.4010 - acc: 0.0246\n",
            "Epoch 4/100\n",
            "15462/15462 [==============================] - 23s 2ms/sample - loss: 6.2737 - acc: 0.0281\n",
            "Epoch 5/100\n",
            "15462/15462 [==============================] - 23s 2ms/sample - loss: 6.1713 - acc: 0.0369\n",
            "Epoch 6/100\n",
            "15462/15462 [==============================] - 24s 2ms/sample - loss: 6.0848 - acc: 0.0389\n",
            "Epoch 7/100\n",
            "15462/15462 [==============================] - 24s 2ms/sample - loss: 6.0095 - acc: 0.0420\n",
            "Epoch 8/100\n",
            "15462/15462 [==============================] - 24s 2ms/sample - loss: 5.9266 - acc: 0.0448\n",
            "Epoch 9/100\n",
            "15462/15462 [==============================] - 23s 2ms/sample - loss: 5.8353 - acc: 0.0488\n",
            "Epoch 10/100\n",
            "15462/15462 [==============================] - 23s 1ms/sample - loss: 5.7255 - acc: 0.0594\n",
            "Epoch 11/100\n",
            "15462/15462 [==============================] - 23s 2ms/sample - loss: 5.6163 - acc: 0.0640\n",
            "Epoch 12/100\n",
            "15462/15462 [==============================] - 23s 1ms/sample - loss: 5.4956 - acc: 0.0710\n",
            "Epoch 13/100\n",
            "15462/15462 [==============================] - 23s 2ms/sample - loss: 5.3852 - acc: 0.0766\n",
            "Epoch 14/100\n",
            "15462/15462 [==============================] - 23s 2ms/sample - loss: 5.2726 - acc: 0.0828\n",
            "Epoch 15/100\n",
            "15462/15462 [==============================] - 23s 2ms/sample - loss: 5.1616 - acc: 0.0901\n",
            "Epoch 16/100\n",
            "15462/15462 [==============================] - 23s 2ms/sample - loss: 5.0519 - acc: 0.0982\n",
            "Epoch 17/100\n",
            "15462/15462 [==============================] - 23s 2ms/sample - loss: 4.9421 - acc: 0.1076\n",
            "Epoch 18/100\n",
            "15462/15462 [==============================] - 23s 1ms/sample - loss: 4.8340 - acc: 0.1154\n",
            "Epoch 19/100\n",
            "15462/15462 [==============================] - 23s 2ms/sample - loss: 4.7237 - acc: 0.1237\n",
            "Epoch 20/100\n",
            "15462/15462 [==============================] - 23s 2ms/sample - loss: 4.6142 - acc: 0.1329\n",
            "Epoch 21/100\n",
            "15462/15462 [==============================] - 23s 1ms/sample - loss: 4.5120 - acc: 0.1455\n",
            "Epoch 22/100\n",
            "15462/15462 [==============================] - 23s 2ms/sample - loss: 4.4021 - acc: 0.1569\n",
            "Epoch 23/100\n",
            "15462/15462 [==============================] - 23s 1ms/sample - loss: 4.3003 - acc: 0.1683\n",
            "Epoch 24/100\n",
            "15462/15462 [==============================] - 23s 2ms/sample - loss: 4.1936 - acc: 0.1813\n",
            "Epoch 25/100\n",
            "15462/15462 [==============================] - 23s 1ms/sample - loss: 4.0861 - acc: 0.1949\n",
            "Epoch 26/100\n",
            "15462/15462 [==============================] - 23s 2ms/sample - loss: 3.9926 - acc: 0.2093\n",
            "Epoch 27/100\n",
            "15462/15462 [==============================] - 23s 1ms/sample - loss: 3.8906 - acc: 0.2254\n",
            "Epoch 28/100\n",
            "15462/15462 [==============================] - 23s 1ms/sample - loss: 3.7884 - acc: 0.2438\n",
            "Epoch 29/100\n",
            "15462/15462 [==============================] - 23s 1ms/sample - loss: 3.6928 - acc: 0.2561\n",
            "Epoch 30/100\n",
            "15462/15462 [==============================] - 23s 1ms/sample - loss: 3.5927 - acc: 0.2767\n",
            "Epoch 31/100\n",
            "15462/15462 [==============================] - 23s 2ms/sample - loss: 3.5093 - acc: 0.2959\n",
            "Epoch 32/100\n",
            "15462/15462 [==============================] - 23s 2ms/sample - loss: 3.4130 - acc: 0.3179\n",
            "Epoch 33/100\n",
            "15462/15462 [==============================] - 23s 1ms/sample - loss: 3.3335 - acc: 0.3320\n",
            "Epoch 34/100\n",
            "15462/15462 [==============================] - 23s 1ms/sample - loss: 3.2384 - acc: 0.3557\n",
            "Epoch 35/100\n",
            "15462/15462 [==============================] - 23s 1ms/sample - loss: 3.1623 - acc: 0.3702\n",
            "Epoch 36/100\n",
            "15462/15462 [==============================] - 23s 1ms/sample - loss: 3.0953 - acc: 0.3885\n",
            "Epoch 37/100\n",
            "15462/15462 [==============================] - 23s 1ms/sample - loss: 3.0097 - acc: 0.3991\n",
            "Epoch 38/100\n",
            "15462/15462 [==============================] - 24s 2ms/sample - loss: 2.9528 - acc: 0.4161\n",
            "Epoch 39/100\n",
            "15462/15462 [==============================] - 24s 2ms/sample - loss: 2.8749 - acc: 0.4356\n",
            "Epoch 40/100\n",
            "15462/15462 [==============================] - 23s 1ms/sample - loss: 2.8124 - acc: 0.4491\n",
            "Epoch 41/100\n",
            "15462/15462 [==============================] - 23s 1ms/sample - loss: 2.7413 - acc: 0.4647\n",
            "Epoch 42/100\n",
            "15462/15462 [==============================] - 23s 1ms/sample - loss: 2.6819 - acc: 0.4825\n",
            "Epoch 43/100\n",
            "15462/15462 [==============================] - 23s 1ms/sample - loss: 2.6167 - acc: 0.4923\n",
            "Epoch 44/100\n",
            "15462/15462 [==============================] - 23s 1ms/sample - loss: 2.5566 - acc: 0.5091\n",
            "Epoch 45/100\n",
            "15462/15462 [==============================] - 23s 1ms/sample - loss: 2.4983 - acc: 0.5224\n",
            "Epoch 46/100\n",
            "15462/15462 [==============================] - 23s 1ms/sample - loss: 2.4608 - acc: 0.5294\n",
            "Epoch 47/100\n",
            "15462/15462 [==============================] - 23s 2ms/sample - loss: 2.3947 - acc: 0.5468\n",
            "Epoch 48/100\n",
            "15462/15462 [==============================] - 23s 1ms/sample - loss: 2.3527 - acc: 0.5573\n",
            "Epoch 49/100\n",
            "15462/15462 [==============================] - 23s 1ms/sample - loss: 2.2943 - acc: 0.5716\n",
            "Epoch 50/100\n",
            "15462/15462 [==============================] - 23s 1ms/sample - loss: 2.2515 - acc: 0.5790\n",
            "Epoch 51/100\n",
            "15462/15462 [==============================] - 23s 1ms/sample - loss: 2.2064 - acc: 0.5890\n",
            "Epoch 52/100\n",
            "15462/15462 [==============================] - 23s 1ms/sample - loss: 2.1559 - acc: 0.6041\n",
            "Epoch 53/100\n",
            "15462/15462 [==============================] - 23s 1ms/sample - loss: 2.1213 - acc: 0.6099\n",
            "Epoch 54/100\n",
            "15462/15462 [==============================] - 22s 1ms/sample - loss: 2.0832 - acc: 0.6171\n",
            "Epoch 55/100\n",
            "15462/15462 [==============================] - 22s 1ms/sample - loss: 2.0445 - acc: 0.6288\n",
            "Epoch 56/100\n",
            "15462/15462 [==============================] - 22s 1ms/sample - loss: 1.9977 - acc: 0.6344\n",
            "Epoch 57/100\n",
            "15462/15462 [==============================] - 22s 1ms/sample - loss: 1.9561 - acc: 0.6435\n",
            "Epoch 58/100\n",
            "15462/15462 [==============================] - 22s 1ms/sample - loss: 1.9137 - acc: 0.6581\n",
            "Epoch 59/100\n",
            "15462/15462 [==============================] - 22s 1ms/sample - loss: 1.8898 - acc: 0.6596\n",
            "Epoch 60/100\n",
            "15462/15462 [==============================] - 22s 1ms/sample - loss: 1.8693 - acc: 0.6629\n",
            "Epoch 61/100\n",
            "15462/15462 [==============================] - 23s 1ms/sample - loss: 1.8256 - acc: 0.6742\n",
            "Epoch 62/100\n",
            "15462/15462 [==============================] - 22s 1ms/sample - loss: 1.7908 - acc: 0.6804\n",
            "Epoch 63/100\n",
            "15462/15462 [==============================] - 22s 1ms/sample - loss: 1.7573 - acc: 0.6854\n",
            "Epoch 64/100\n",
            "15462/15462 [==============================] - 22s 1ms/sample - loss: 1.7273 - acc: 0.6953\n",
            "Epoch 65/100\n",
            "15462/15462 [==============================] - 22s 1ms/sample - loss: 1.7006 - acc: 0.6978\n",
            "Epoch 66/100\n",
            "15462/15462 [==============================] - 22s 1ms/sample - loss: 1.6560 - acc: 0.7107\n",
            "Epoch 67/100\n",
            "15462/15462 [==============================] - 22s 1ms/sample - loss: 1.6475 - acc: 0.7105\n",
            "Epoch 68/100\n",
            "15462/15462 [==============================] - 22s 1ms/sample - loss: 1.6267 - acc: 0.7148\n",
            "Epoch 69/100\n",
            "15462/15462 [==============================] - 22s 1ms/sample - loss: 1.5983 - acc: 0.7206\n",
            "Epoch 70/100\n",
            "15462/15462 [==============================] - 22s 1ms/sample - loss: 1.5777 - acc: 0.7202\n",
            "Epoch 71/100\n",
            "15462/15462 [==============================] - 22s 1ms/sample - loss: 1.5536 - acc: 0.7307\n",
            "Epoch 72/100\n",
            "15462/15462 [==============================] - 22s 1ms/sample - loss: 1.5048 - acc: 0.7463\n",
            "Epoch 73/100\n",
            "15462/15462 [==============================] - 22s 1ms/sample - loss: 1.5013 - acc: 0.7418\n",
            "Epoch 74/100\n",
            "15462/15462 [==============================] - 22s 1ms/sample - loss: 1.4880 - acc: 0.7434\n",
            "Epoch 75/100\n",
            "15462/15462 [==============================] - 22s 1ms/sample - loss: 1.4590 - acc: 0.7485\n",
            "Epoch 76/100\n",
            "15462/15462 [==============================] - 22s 1ms/sample - loss: 1.4388 - acc: 0.7508\n",
            "Epoch 77/100\n",
            "15462/15462 [==============================] - 22s 1ms/sample - loss: 1.4370 - acc: 0.7529\n",
            "Epoch 78/100\n",
            "15462/15462 [==============================] - 22s 1ms/sample - loss: 1.4132 - acc: 0.7530\n",
            "Epoch 79/100\n",
            "15462/15462 [==============================] - 22s 1ms/sample - loss: 1.3887 - acc: 0.7632\n",
            "Epoch 80/100\n",
            "15462/15462 [==============================] - 22s 1ms/sample - loss: 1.3837 - acc: 0.7627\n",
            "Epoch 81/100\n",
            "15462/15462 [==============================] - 22s 1ms/sample - loss: 1.3570 - acc: 0.7656\n",
            "Epoch 82/100\n",
            "15462/15462 [==============================] - 22s 1ms/sample - loss: 1.3400 - acc: 0.7700\n",
            "Epoch 83/100\n",
            "15462/15462 [==============================] - 22s 1ms/sample - loss: 1.3280 - acc: 0.7683\n",
            "Epoch 84/100\n",
            "15462/15462 [==============================] - 22s 1ms/sample - loss: 1.2986 - acc: 0.7767\n",
            "Epoch 85/100\n",
            "15462/15462 [==============================] - 22s 1ms/sample - loss: 1.2900 - acc: 0.7797\n",
            "Epoch 86/100\n",
            "15462/15462 [==============================] - 22s 1ms/sample - loss: 1.2766 - acc: 0.7801\n",
            "Epoch 87/100\n",
            "15462/15462 [==============================] - 22s 1ms/sample - loss: 1.2618 - acc: 0.7855\n",
            "Epoch 88/100\n",
            "15462/15462 [==============================] - 22s 1ms/sample - loss: 1.2568 - acc: 0.7841\n",
            "Epoch 89/100\n",
            "15462/15462 [==============================] - 22s 1ms/sample - loss: 1.2428 - acc: 0.7906\n",
            "Epoch 90/100\n",
            "15462/15462 [==============================] - 22s 1ms/sample - loss: 1.2172 - acc: 0.7925\n",
            "Epoch 91/100\n",
            "15462/15462 [==============================] - 22s 1ms/sample - loss: 1.2154 - acc: 0.7913\n",
            "Epoch 92/100\n",
            "15462/15462 [==============================] - 22s 1ms/sample - loss: 1.2105 - acc: 0.7914\n",
            "Epoch 93/100\n",
            "15462/15462 [==============================] - 22s 1ms/sample - loss: 1.2095 - acc: 0.7907\n",
            "Epoch 94/100\n",
            "15462/15462 [==============================] - 22s 1ms/sample - loss: 1.1832 - acc: 0.7976\n",
            "Epoch 95/100\n",
            "15462/15462 [==============================] - 22s 1ms/sample - loss: 1.1663 - acc: 0.7967\n",
            "Epoch 96/100\n",
            "15462/15462 [==============================] - 22s 1ms/sample - loss: 1.1584 - acc: 0.8002\n",
            "Epoch 97/100\n",
            "15462/15462 [==============================] - 22s 1ms/sample - loss: 1.1514 - acc: 0.8045\n",
            "Epoch 98/100\n",
            "15462/15462 [==============================] - 22s 1ms/sample - loss: 1.1494 - acc: 0.8026\n",
            "Epoch 99/100\n",
            "15462/15462 [==============================] - 22s 1ms/sample - loss: 1.1453 - acc: 0.7991\n",
            "Epoch 100/100\n",
            "15462/15462 [==============================] - 22s 1ms/sample - loss: 1.1158 - acc: 0.8063\n"
          ],
          "name": "stdout"
        }
      ]
    },
    {
      "cell_type": "code",
      "metadata": {
        "id": "1fXTEO3GJ282",
        "colab_type": "code",
        "colab": {
          "base_uri": "https://localhost:8080/",
          "height": 545
        },
        "outputId": "b264a92b-585f-4830-dc17-828b7edbe407"
      },
      "source": [
        "import matplotlib.pyplot as plt\n",
        "acc = history.history['acc']\n",
        "loss = history.history['loss']\n",
        "\n",
        "epochs = range(len(acc))\n",
        "\n",
        "plt.plot(epochs, acc, 'b', label='Training accuracy')\n",
        "plt.title('Training accuracy')\n",
        "\n",
        "plt.figure()\n",
        "\n",
        "plt.plot(epochs, loss, 'b', label='Training Loss')\n",
        "plt.title('Training loss')\n",
        "plt.legend()\n",
        "\n",
        "plt.show()"
      ],
      "execution_count": 9,
      "outputs": [
        {
          "output_type": "display_data",
          "data": {
            "image/png": "[encoded data removed]",
            "text/plain": [
              "<Figure size 432x288 with 1 Axes>"
            ]
          },
          "metadata": {
            "tags": []
          }
        },
        {
          "output_type": "display_data",
          "data": {
            "image/png": "[encoded data removed]",
            "text/plain": [
              "<Figure size 432x288 with 1 Axes>"
            ]
          },
          "metadata": {
            "tags": []
          }
        }
      ]
    },
    {
      "cell_type": "code",
      "metadata": {
        "id": "6Vc6PHgxa6Hm",
        "colab_type": "code",
        "colab": {
          "base_uri": "https://localhost:8080/",
          "height": 54
        },
        "outputId": "68686d27-b45c-4a4e-aa1a-6e200a5933aa"
      },
      "source": [
        "seed_text = \"Help me Obi Wan Kenobi, you're my only hope\"\n",
        "next_words = 100\n",
        "  \n",
        "for _ in range(next_words):\n",
        "\ttoken_list = tokenizer.texts_to_sequences([seed_text])[0]\n",
        "\ttoken_list = pad_sequences([token_list], maxlen=max_sequence_len-1, padding='pre')\n",
        "\tpredicted = model.predict_classes(token_list, verbose=0)\n",
        "\toutput_word = \"\"\n",
        "\tfor word, index in tokenizer.word_index.items():\n",
        "\t\tif index == predicted:\n",
        "\t\t\toutput_word = word\n",
        "\t\t\tbreak\n",
        "\tseed_text += \" \" + output_word\n",
        "print(seed_text)"
      ],
      "execution_count": 10,
      "outputs": [
        {
          "output_type": "stream",
          "text": [
            "Help me Obi Wan Kenobi, you're my only hope a healthful pleasure go back shown left behind twain days be left swearing mistaking words be store still live doth store resort light clears about back tend untrue done last by down alone we abuse me still now behold needing deem'd rare untrue bright truth torn days hence left find thine eyes forsworn to give thee hence live true view forth hate hate 'no well flowers find thee hence tend shown tend torn clears tend torn contains days leave yet yet good shade behind thee mistaking thee bright new deem'd deem'd contains days be rare hence ' hence defeated proceeds\n"
          ],
          "name": "stdout"
        }
      ]
    }
  ]
}