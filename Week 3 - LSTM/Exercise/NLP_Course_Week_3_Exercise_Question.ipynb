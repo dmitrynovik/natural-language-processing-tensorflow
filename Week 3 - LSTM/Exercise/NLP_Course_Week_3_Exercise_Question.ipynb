{
  "nbformat": 4,
  "nbformat_minor": 0,
  "metadata": {
    "colab": {
      "name": "NLP Course - Week 3 Exercise Question.ipynb",
      "provenance": []
    },
    "kernelspec": {
      "name": "python3",
      "display_name": "Python 3"
    },
    "accelerator": "GPU"
  },
  "cells": [
    {
      "cell_type": "code",
      "metadata": {
        "id": "hmA6EzkQJ5jt",
        "colab_type": "code",
        "colab": {
          "base_uri": "https://localhost:8080/",
          "height": 34
        },
        "outputId": "bf3c2f67-be60-47f8-a4f7-d445a9ebc386"
      },
      "source": [
        "import json\n",
        "import tensorflow as tf\n",
        "import csv\n",
        "import random\n",
        "import numpy as np\n",
        "\n",
        "from tensorflow.keras.preprocessing.text import Tokenizer\n",
        "from tensorflow.keras.preprocessing.sequence import pad_sequences\n",
        "from tensorflow.keras.utils import to_categorical\n",
        "from tensorflow.keras import regularizers\n",
        "\n",
        "print(\"Tensorflow version:\", tf.__version__)\n",
        "\n",
        "embedding_dim = 100\n",
        "max_length = 16\n",
        "trunc_type='post'\n",
        "padding_type='post'\n",
        "oov_tok = \"<OOV>\"\n",
        "training_size = 160000 #Your dataset size here. Experiment using smaller values (i.e. 16000), but don't forget to train on at least 160000 to see the best effects\n",
        "test_portion=.1\n",
        "\n",
        "corpus = []\n"
      ],
      "execution_count": 25,
      "outputs": [
        {
          "output_type": "stream",
          "text": [
            "Tensorflow version: 2.0.0-beta0\n"
          ],
          "name": "stdout"
        }
      ]
    },
    {
      "cell_type": "code",
      "metadata": {
        "id": "bM0l_dORKqE0",
        "colab_type": "code",
        "outputId": "d286a020-cda9-424d-bb12-9c90a23721e1",
        "colab": {
          "base_uri": "https://localhost:8080/",
          "height": 204
        }
      },
      "source": [
        "\n",
        "# Note that I cleaned the Stanford dataset to remove LATIN1 encoding to make it easier for Python CSV reader\n",
        "# You can do that yourself with:\n",
        "# iconv -f LATIN1 -t UTF8 training.1600000.processed.noemoticon.csv -o training_cleaned.csv\n",
        "# I then hosted it on my site to make it easier to use in this notebook\n",
        "\n",
        "!wget --no-check-certificate \\\n",
        "    https://storage.googleapis.com/laurencemoroney-blog.appspot.com/training_cleaned.csv \\\n",
        "    -O /tmp/training_cleaned.csv\n",
        "\n",
        "num_sentences = 0\n",
        "\n",
        "with open(\"/tmp/training_cleaned.csv\") as csvfile:\n",
        "    reader = csv.reader(csvfile, delimiter=',')\n",
        "    for row in reader:\n",
        "      # Your Code here. Create list items where the first item is the text, found in row[5], and the second is the label. Note that the label is a '0' or a '4' in the text. When it's the former, make\n",
        "      # your label to be 0, otherwise 1. Keep a count of the number of sentences in num_sentences\n",
        "        # YOUR CODE HERE\n",
        "        # print(row)\n",
        "        list_item=[row[5], 0 if row[0] == '0' else 1]\n",
        "\n",
        "        num_sentences = num_sentences + 1\n",
        "        corpus.append(list_item)\n",
        "\n",
        "\n"
      ],
      "execution_count": 26,
      "outputs": [
        {
          "output_type": "stream",
          "text": [
            "--2019-11-03 23:39:37--  https://storage.googleapis.com/laurencemoroney-blog.appspot.com/training_cleaned.csv\n",
            "Resolving storage.googleapis.com (storage.googleapis.com)... 64.233.191.128, 2607:f8b0:4001:c1b::80\n",
            "Connecting to storage.googleapis.com (storage.googleapis.com)|64.233.191.128|:443... connected.\n",
            "HTTP request sent, awaiting response... 200 OK\n",
            "Length: 238942690 (228M) [application/octet-stream]\n",
            "Saving to: ‘/tmp/training_cleaned.csv’\n",
            "\n",
            "/tmp/training_clean 100%[===================>] 227.87M   191MB/s    in 1.2s    \n",
            "\n",
            "2019-11-03 23:39:38 (191 MB/s) - ‘/tmp/training_cleaned.csv’ saved [238942690/238942690]\n",
            "\n"
          ],
          "name": "stdout"
        }
      ]
    },
    {
      "cell_type": "code",
      "metadata": {
        "id": "3kxblBUjEUX-",
        "colab_type": "code",
        "outputId": "c386b8f9-77ec-4bd4-a9d0-6a65388f8bf4",
        "colab": {
          "base_uri": "https://localhost:8080/",
          "height": 68
        }
      },
      "source": [
        "print(num_sentences)\n",
        "print(len(corpus))\n",
        "print(corpus[1])\n",
        "\n",
        "# Expected Output:\n",
        "# 1600000\n",
        "# 1600000\n",
        "# [\"is upset that he can't update his Facebook by texting it... and might cry as a result  School today also. Blah!\", 0]"
      ],
      "execution_count": 27,
      "outputs": [
        {
          "output_type": "stream",
          "text": [
            "1600000\n",
            "1600000\n",
            "[\"is upset that he can't update his Facebook by texting it... and might cry as a result  School today also. Blah!\", 0]\n"
          ],
          "name": "stdout"
        }
      ]
    },
    {
      "cell_type": "code",
      "metadata": {
        "id": "ohOGz24lsNAD",
        "colab_type": "code",
        "colab": {}
      },
      "source": [
        "sentences=[]\n",
        "labels=[]\n",
        "random.shuffle(corpus)\n",
        "for x in range(training_size):\n",
        "    sentences.append(corpus[x][0])\n",
        "    labels.append(corpus[x][1])\n",
        "\n",
        "tokenizer = Tokenizer()\n",
        "tokenizer.fit_on_texts(sentences)\n",
        "\n",
        "word_index = tokenizer.word_index\n",
        "vocab_size=len(word_index)\n",
        "\n",
        "sequences = tokenizer.texts_to_sequences(sentences)\n",
        "padded = pad_sequences(sequences, maxlen=max_length, padding=padding_type, truncating=trunc_type)\n",
        "\n",
        "split = int(test_portion * training_size)\n",
        "\n",
        "test_sequences = padded[0:split]\n",
        "training_sequences = padded[split:training_size]\n",
        "test_labels = labels[0:split]\n",
        "training_labels = labels[split:training_size]"
      ],
      "execution_count": 0,
      "outputs": []
    },
    {
      "cell_type": "code",
      "metadata": {
        "id": "gIrtRem1En3N",
        "colab_type": "code",
        "outputId": "8e2ca752-9c25-4556-abae-49d0234b9447",
        "colab": {
          "base_uri": "https://localhost:8080/",
          "height": 51
        }
      },
      "source": [
        "print(vocab_size)\n",
        "print(word_index['i'])\n",
        "# Expected Output\n",
        "# 138858\n",
        "# 1"
      ],
      "execution_count": 29,
      "outputs": [
        {
          "output_type": "stream",
          "text": [
            "138254\n",
            "1\n"
          ],
          "name": "stdout"
        }
      ]
    },
    {
      "cell_type": "code",
      "metadata": {
        "id": "C1zdgJkusRh0",
        "colab_type": "code",
        "outputId": "eba570df-db7e-422e-97a9-fc734ff66c63",
        "colab": {
          "base_uri": "https://localhost:8080/",
          "height": 204
        }
      },
      "source": [
        "# Note this is the 100 dimension version of GloVe from Stanford\n",
        "# I unzipped and hosted it on my site to make this notebook easier\n",
        "!wget --no-check-certificate \\\n",
        "    https://storage.googleapis.com/laurencemoroney-blog.appspot.com/glove.6B.100d.txt \\\n",
        "    -O /tmp/glove.6B.100d.txt\n",
        "embeddings_index = {};\n",
        "with open('/tmp/glove.6B.100d.txt') as f:\n",
        "    for line in f:\n",
        "        values = line.split();\n",
        "        word = values[0];\n",
        "        coefs = np.asarray(values[1:], dtype='float32');\n",
        "        embeddings_index[word] = coefs;\n",
        "\n",
        "embeddings_matrix = np.zeros((vocab_size+1, embedding_dim));\n",
        "for word, i in word_index.items():\n",
        "    embedding_vector = embeddings_index.get(word);\n",
        "    if embedding_vector is not None:\n",
        "        embeddings_matrix[i] = embedding_vector;"
      ],
      "execution_count": 30,
      "outputs": [
        {
          "output_type": "stream",
          "text": [
            "--2019-11-03 23:40:24--  https://storage.googleapis.com/laurencemoroney-blog.appspot.com/glove.6B.100d.txt\n",
            "Resolving storage.googleapis.com (storage.googleapis.com)... 172.217.214.128, 2607:f8b0:4001:c03::80\n",
            "Connecting to storage.googleapis.com (storage.googleapis.com)|172.217.214.128|:443... connected.\n",
            "HTTP request sent, awaiting response... 200 OK\n",
            "Length: 347116733 (331M) [text/plain]\n",
            "Saving to: ‘/tmp/glove.6B.100d.txt’\n",
            "\n",
            "/tmp/glove.6B.100d. 100%[===================>] 331.04M   187MB/s    in 1.8s    \n",
            "\n",
            "2019-11-03 23:40:26 (187 MB/s) - ‘/tmp/glove.6B.100d.txt’ saved [347116733/347116733]\n",
            "\n"
          ],
          "name": "stdout"
        }
      ]
    },
    {
      "cell_type": "code",
      "metadata": {
        "id": "71NLk_lpFLNt",
        "colab_type": "code",
        "outputId": "6e20283b-1cda-4648-a728-efa9839637ba",
        "colab": {
          "base_uri": "https://localhost:8080/",
          "height": 34
        }
      },
      "source": [
        "print(len(embeddings_matrix))\n",
        "# Expected Output\n",
        "# 138859"
      ],
      "execution_count": 31,
      "outputs": [
        {
          "output_type": "stream",
          "text": [
            "138255\n"
          ],
          "name": "stdout"
        }
      ]
    },
    {
      "cell_type": "code",
      "metadata": {
        "colab_type": "code",
        "id": "iKKvbuEBOGFz",
        "colab": {
          "base_uri": "https://localhost:8080/",
          "height": 1000
        },
        "outputId": "12a520b9-0cee-41d5-af75-e245445c972e"
      },
      "source": [
        "model = tf.keras.Sequential([\n",
        "    tf.keras.layers.Embedding(vocab_size+1, embedding_dim, input_length=max_length, weights=[embeddings_matrix], trainable=False),\n",
        "    # YOUR CODE HERE - experiment with combining different types, such as convolutions and LSTMs\n",
        "    tf.keras.layers.Dropout(0.2),\n",
        "    tf.keras.layers.Conv1D(64, 5, activation='relu'),\n",
        "    tf.keras.layers.MaxPooling1D(pool_size=4),\n",
        "    tf.keras.layers.LSTM(64),\n",
        "    tf.keras.layers.Dense(1, activation='sigmoid')\n",
        "])\n",
        "model.compile(loss='binary_crossentropy', optimizer='adam', metrics=['accuracy']) # YOUR CODE HERE\n",
        "model.summary()\n",
        "\n",
        "num_epochs = 50\n",
        "history = model.fit(training_sequences, training_labels, epochs=num_epochs, validation_data=(test_sequences, test_labels), verbose=2)\n",
        "\n",
        "print(\"Training Complete\")\n"
      ],
      "execution_count": 32,
      "outputs": [
        {
          "output_type": "stream",
          "text": [
            "Model: \"sequential_2\"\n",
            "_________________________________________________________________\n",
            "Layer (type)                 Output Shape              Param #   \n",
            "=================================================================\n",
            "embedding_2 (Embedding)      (None, 16, 100)           13825500  \n",
            "_________________________________________________________________\n",
            "dropout_1 (Dropout)          (None, 16, 100)           0         \n",
            "_________________________________________________________________\n",
            "conv1d_1 (Conv1D)            (None, 12, 64)            32064     \n",
            "_________________________________________________________________\n",
            "max_pooling1d_1 (MaxPooling1 (None, 3, 64)             0         \n",
            "_________________________________________________________________\n",
            "lstm_3 (LSTM)                (None, 64)                33024     \n",
            "_________________________________________________________________\n",
            "dense_3 (Dense)              (None, 1)                 65        \n",
            "=================================================================\n",
            "Total params: 13,890,653\n",
            "Trainable params: 65,153\n",
            "Non-trainable params: 13,825,500\n",
            "_________________________________________________________________\n",
            "WARNING:tensorflow:From /usr/local/lib/python3.6/dist-packages/tensorflow/python/ops/math_grad.py:1250: add_dispatch_support.<locals>.wrapper (from tensorflow.python.ops.array_ops) is deprecated and will be removed in a future version.\n",
            "Instructions for updating:\n",
            "Use tf.where in 2.0, which has the same broadcast rule as np.where\n",
            "Train on 144000 samples, validate on 16000 samples\n",
            "Epoch 1/50\n",
            "144000/144000 - 132s - loss: 0.5687 - accuracy: 0.6983 - val_loss: 0.5289 - val_accuracy: 0.7287\n",
            "Epoch 2/50\n",
            "144000/144000 - 111s - loss: 0.5268 - accuracy: 0.7316 - val_loss: 0.5148 - val_accuracy: 0.7446\n",
            "Epoch 3/50\n",
            "144000/144000 - 111s - loss: 0.5112 - accuracy: 0.7426 - val_loss: 0.5086 - val_accuracy: 0.7476\n",
            "Epoch 4/50\n",
            "144000/144000 - 112s - loss: 0.4980 - accuracy: 0.7516 - val_loss: 0.5010 - val_accuracy: 0.7524\n",
            "Epoch 5/50\n",
            "144000/144000 - 113s - loss: 0.4904 - accuracy: 0.7566 - val_loss: 0.4950 - val_accuracy: 0.7567\n",
            "Epoch 6/50\n",
            "144000/144000 - 111s - loss: 0.4833 - accuracy: 0.7615 - val_loss: 0.5075 - val_accuracy: 0.7506\n",
            "Epoch 7/50\n",
            "144000/144000 - 110s - loss: 0.4769 - accuracy: 0.7658 - val_loss: 0.4965 - val_accuracy: 0.7563\n",
            "Epoch 8/50\n",
            "144000/144000 - 111s - loss: 0.4744 - accuracy: 0.7676 - val_loss: 0.4980 - val_accuracy: 0.7554\n",
            "Epoch 9/50\n",
            "144000/144000 - 111s - loss: 0.4684 - accuracy: 0.7717 - val_loss: 0.4958 - val_accuracy: 0.7577\n",
            "Epoch 10/50\n",
            "144000/144000 - 111s - loss: 0.4653 - accuracy: 0.7736 - val_loss: 0.5038 - val_accuracy: 0.7506\n",
            "Epoch 11/50\n",
            "144000/144000 - 110s - loss: 0.4609 - accuracy: 0.7771 - val_loss: 0.5034 - val_accuracy: 0.7533\n",
            "Epoch 12/50\n",
            "144000/144000 - 112s - loss: 0.4592 - accuracy: 0.7769 - val_loss: 0.4998 - val_accuracy: 0.7546\n",
            "Epoch 13/50\n",
            "144000/144000 - 110s - loss: 0.4552 - accuracy: 0.7795 - val_loss: 0.4995 - val_accuracy: 0.7548\n",
            "Epoch 14/50\n",
            "144000/144000 - 111s - loss: 0.4528 - accuracy: 0.7808 - val_loss: 0.5007 - val_accuracy: 0.7575\n",
            "Epoch 15/50\n",
            "144000/144000 - 110s - loss: 0.4518 - accuracy: 0.7822 - val_loss: 0.5061 - val_accuracy: 0.7545\n",
            "Epoch 16/50\n",
            "144000/144000 - 109s - loss: 0.4494 - accuracy: 0.7827 - val_loss: 0.5033 - val_accuracy: 0.7558\n",
            "Epoch 17/50\n",
            "144000/144000 - 108s - loss: 0.4493 - accuracy: 0.7825 - val_loss: 0.5039 - val_accuracy: 0.7546\n",
            "Epoch 18/50\n",
            "144000/144000 - 108s - loss: 0.4456 - accuracy: 0.7852 - val_loss: 0.5043 - val_accuracy: 0.7549\n",
            "Epoch 19/50\n",
            "144000/144000 - 107s - loss: 0.4441 - accuracy: 0.7866 - val_loss: 0.5069 - val_accuracy: 0.7515\n",
            "Epoch 20/50\n",
            "144000/144000 - 109s - loss: 0.4434 - accuracy: 0.7866 - val_loss: 0.5035 - val_accuracy: 0.7559\n",
            "Epoch 21/50\n",
            "144000/144000 - 106s - loss: 0.4425 - accuracy: 0.7873 - val_loss: 0.5030 - val_accuracy: 0.7562\n",
            "Epoch 22/50\n",
            "144000/144000 - 108s - loss: 0.4405 - accuracy: 0.7882 - val_loss: 0.5092 - val_accuracy: 0.7541\n",
            "Epoch 23/50\n",
            "144000/144000 - 106s - loss: 0.4399 - accuracy: 0.7879 - val_loss: 0.5130 - val_accuracy: 0.7552\n",
            "Epoch 24/50\n",
            "144000/144000 - 106s - loss: 0.4377 - accuracy: 0.7905 - val_loss: 0.5119 - val_accuracy: 0.7552\n",
            "Epoch 25/50\n",
            "144000/144000 - 103s - loss: 0.4367 - accuracy: 0.7898 - val_loss: 0.5110 - val_accuracy: 0.7514\n",
            "Epoch 26/50\n",
            "144000/144000 - 103s - loss: 0.4370 - accuracy: 0.7897 - val_loss: 0.5072 - val_accuracy: 0.7537\n",
            "Epoch 27/50\n",
            "144000/144000 - 108s - loss: 0.4363 - accuracy: 0.7907 - val_loss: 0.5129 - val_accuracy: 0.7513\n",
            "Epoch 28/50\n",
            "144000/144000 - 109s - loss: 0.4351 - accuracy: 0.7927 - val_loss: 0.5256 - val_accuracy: 0.7479\n",
            "Epoch 29/50\n",
            "144000/144000 - 105s - loss: 0.4343 - accuracy: 0.7927 - val_loss: 0.5135 - val_accuracy: 0.7518\n",
            "Epoch 30/50\n",
            "144000/144000 - 103s - loss: 0.4335 - accuracy: 0.7926 - val_loss: 0.5162 - val_accuracy: 0.7536\n",
            "Epoch 31/50\n",
            "144000/144000 - 103s - loss: 0.4338 - accuracy: 0.7909 - val_loss: 0.5131 - val_accuracy: 0.7556\n",
            "Epoch 32/50\n",
            "144000/144000 - 103s - loss: 0.4331 - accuracy: 0.7927 - val_loss: 0.5106 - val_accuracy: 0.7559\n",
            "Epoch 33/50\n",
            "144000/144000 - 103s - loss: 0.4327 - accuracy: 0.7929 - val_loss: 0.5132 - val_accuracy: 0.7533\n",
            "Epoch 34/50\n",
            "144000/144000 - 102s - loss: 0.4316 - accuracy: 0.7932 - val_loss: 0.5137 - val_accuracy: 0.7517\n",
            "Epoch 35/50\n",
            "144000/144000 - 101s - loss: 0.4317 - accuracy: 0.7935 - val_loss: 0.5144 - val_accuracy: 0.7509\n",
            "Epoch 36/50\n",
            "144000/144000 - 103s - loss: 0.4301 - accuracy: 0.7940 - val_loss: 0.5156 - val_accuracy: 0.7516\n",
            "Epoch 37/50\n",
            "144000/144000 - 103s - loss: 0.4311 - accuracy: 0.7934 - val_loss: 0.5135 - val_accuracy: 0.7533\n",
            "Epoch 38/50\n",
            "144000/144000 - 106s - loss: 0.4287 - accuracy: 0.7943 - val_loss: 0.5178 - val_accuracy: 0.7542\n",
            "Epoch 39/50\n",
            "144000/144000 - 102s - loss: 0.4289 - accuracy: 0.7951 - val_loss: 0.5110 - val_accuracy: 0.7542\n",
            "Epoch 40/50\n",
            "144000/144000 - 104s - loss: 0.4293 - accuracy: 0.7956 - val_loss: 0.5133 - val_accuracy: 0.7514\n",
            "Epoch 41/50\n",
            "144000/144000 - 101s - loss: 0.4281 - accuracy: 0.7964 - val_loss: 0.5178 - val_accuracy: 0.7509\n",
            "Epoch 42/50\n",
            "144000/144000 - 101s - loss: 0.4286 - accuracy: 0.7965 - val_loss: 0.5206 - val_accuracy: 0.7487\n",
            "Epoch 43/50\n",
            "144000/144000 - 103s - loss: 0.4279 - accuracy: 0.7964 - val_loss: 0.5186 - val_accuracy: 0.7529\n",
            "Epoch 44/50\n",
            "144000/144000 - 98s - loss: 0.4290 - accuracy: 0.7951 - val_loss: 0.5131 - val_accuracy: 0.7532\n",
            "Epoch 45/50\n",
            "144000/144000 - 98s - loss: 0.4272 - accuracy: 0.7973 - val_loss: 0.5151 - val_accuracy: 0.7551\n",
            "Epoch 46/50\n",
            "144000/144000 - 99s - loss: 0.4270 - accuracy: 0.7971 - val_loss: 0.5161 - val_accuracy: 0.7529\n",
            "Epoch 47/50\n",
            "144000/144000 - 98s - loss: 0.4279 - accuracy: 0.7968 - val_loss: 0.5166 - val_accuracy: 0.7498\n",
            "Epoch 48/50\n",
            "144000/144000 - 96s - loss: 0.4273 - accuracy: 0.7972 - val_loss: 0.5167 - val_accuracy: 0.7526\n",
            "Epoch 49/50\n",
            "144000/144000 - 97s - loss: 0.4267 - accuracy: 0.7966 - val_loss: 0.5185 - val_accuracy: 0.7527\n",
            "Epoch 50/50\n",
            "144000/144000 - 99s - loss: 0.4266 - accuracy: 0.7976 - val_loss: 0.5186 - val_accuracy: 0.7541\n",
            "Training Complete\n"
          ],
          "name": "stdout"
        }
      ]
    },
    {
      "cell_type": "code",
      "metadata": {
        "id": "qxju4ItJKO8F",
        "colab_type": "code",
        "colab": {
          "base_uri": "https://localhost:8080/",
          "height": 607
        },
        "outputId": "4cd846e9-845c-403b-8e3f-33df465d4441"
      },
      "source": [
        "import matplotlib.image  as mpimg\n",
        "import matplotlib.pyplot as plt\n",
        "\n",
        "#-----------------------------------------------------------\n",
        "# Retrieve a list of list results on training and test data\n",
        "# sets for each training epoch\n",
        "#-----------------------------------------------------------\n",
        "acc=history.history['accuracy']\n",
        "val_acc=history.history['val_accuracy']\n",
        "loss=history.history['loss']\n",
        "val_loss=history.history['val_loss']\n",
        "\n",
        "epochs=range(len(acc)) # Get number of epochs\n",
        "\n",
        "#------------------------------------------------\n",
        "# Plot training and validation accuracy per epoch\n",
        "#------------------------------------------------\n",
        "plt.plot(epochs, acc, 'r')\n",
        "plt.plot(epochs, val_acc, 'b')\n",
        "plt.title('Training and validation accuracy')\n",
        "plt.xlabel(\"Epochs\")\n",
        "plt.ylabel(\"Accuracy\")\n",
        "plt.legend([\"Accuracy\", \"Validation Accuracy\"])\n",
        "\n",
        "plt.figure()\n",
        "\n",
        "#------------------------------------------------\n",
        "# Plot training and validation loss per epoch\n",
        "#------------------------------------------------\n",
        "plt.plot(epochs, loss, 'r')\n",
        "plt.plot(epochs, val_loss, 'b')\n",
        "plt.title('Training and validation loss')\n",
        "plt.xlabel(\"Epochs\")\n",
        "plt.ylabel(\"Loss\")\n",
        "plt.legend([\"Loss\", \"Validation Loss\"])\n",
        "\n",
        "plt.figure()\n",
        "\n",
        "\n",
        "# Expected Output\n",
        "# A chart where the validation loss does not increase sharply!"
      ],
      "execution_count": 35,
      "outputs": [
        {
          "output_type": "execute_result",
          "data": {
            "text/plain": [
              "<Figure size 432x288 with 0 Axes>"
            ]
          },
          "metadata": {
            "tags": []
          },
          "execution_count": 35
        },
        {
          "output_type": "display_data",
          "data": {
            "image/png": "[encoded data removed]",
            "text/plain": [
              "<Figure size 432x288 with 1 Axes>"
            ]
          },
          "metadata": {
            "tags": []
          }
        },
        {
          "output_type": "display_data",
          "data": {
            "image/png": "[encoded data removed]",
            "text/plain": [
              "<Figure size 432x288 with 1 Axes>"
            ]
          },
          "metadata": {
            "tags": []
          }
        },
        {
          "output_type": "display_data",
          "data": {
            "text/plain": [
              "<Figure size 432x288 with 0 Axes>"
            ]
          },
          "metadata": {
            "tags": []
          }
        }
      ]
    }
  ]
}